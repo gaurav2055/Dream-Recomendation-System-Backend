{
 "cells": [
  {
   "cell_type": "markdown",
   "id": "49143edf",
   "metadata": {},
   "source": [
    "# 🧠 Dream Travel Recommender – psycopg2 Setup\n",
    "This notebook connects to your PostgreSQL database using `psycopg2`, fetches destination data, and prepares it for building a content-based recommender system."
   ]
  },
  {
   "cell_type": "code",
   "execution_count": null,
   "id": "314f086c",
   "metadata": {},
   "outputs": [],
   "source": [
    "import pandas as pd\n",
    "import psycopg2\n",
    "from sklearn.feature_extraction.text import TfidfVectorizer\n",
    "from sklearn.metrics.pairwise import cosine_similarity\n"
   ]
  },
  {
   "cell_type": "code",
   "execution_count": null,
   "id": "4b67e5e0",
   "metadata": {},
   "outputs": [],
   "source": [
    "# 🔐 Replace these credentials with your actual values\n",
    "DB_NAME = \"travel_db\"\n",
    "DB_USER = \"postgres\"\n",
    "DB_PASS = \"post@Charade@01\"\n",
    "DB_HOST = \"127.0.0.1\"\n",
    "DB_PORT = \"5432\"\n",
    "\n",
    "try:\n",
    "    conn = psycopg2.connect(\n",
    "        dbname=DB_NAME,\n",
    "        user=DB_USER,\n",
    "        password=DB_PASS,\n",
    "        host=DB_HOST,\n",
    "        port=DB_PORT\n",
    "    )\n",
    "    print(\"✅ Connected to PostgreSQL!\")\n",
    "except Exception as e:\n",
    "    print(\"❌ Connection failed.\")\n",
    "    raise e\n"
   ]
  },
  {
   "cell_type": "code",
   "execution_count": null,
   "id": "016f541b",
   "metadata": {},
   "outputs": [],
   "source": [
    "# Read destination data into pandas\n",
    "query = \"\"\"\n",
    "SELECT id, name, city, state, country, description, tags,\n",
    "       adventure, relax, nature, culture, luxury\n",
    "FROM destinations\n",
    "\"\"\"\n",
    "df = pd.read_sql(query, conn)\n",
    "print(f\"Loaded {len(df)} records.\")\n",
    "df.head()\n"
   ]
  },
  {
   "cell_type": "code",
   "execution_count": null,
   "id": "86f2f545",
   "metadata": {},
   "outputs": [],
   "source": [
    "# Combine description and tags into a single text column\n",
    "df[\"tags_str\"] = df[\"tags\"].apply(lambda x: \" \".join(x) if isinstance(x, list) else str(x))\n",
    "df[\"text\"] = df[\"description\"].fillna(\"\") + \" \" + df[\"tags_str\"].fillna(\"\")\n",
    "df[\"text\"] = df[\"text\"].str.lower()\n",
    "df[\"text\"].head()\n"
   ]
  },
  {
   "cell_type": "code",
   "execution_count": null,
   "id": "08c35de1",
   "metadata": {},
   "outputs": [],
   "source": [
    "# Fit TF-IDF model on text\n",
    "tfidf = TfidfVectorizer(stop_words=\"english\")\n",
    "tfidf_matrix = tfidf.fit_transform(df[\"text\"])\n",
    "\n",
    "# Compute cosine similarity\n",
    "cosine_sim = cosine_similarity(tfidf_matrix)\n",
    "print(\"✅ TF-IDF matrix shape:\", tfidf_matrix.shape)\n"
   ]
  },
  {
   "cell_type": "code",
   "execution_count": null,
   "id": "f440d0e9",
   "metadata": {},
   "outputs": [],
   "source": [
    "def recommend_places(query_index, top_n=10):\n",
    "    sim_scores = list(enumerate(cosine_sim[query_index]))\n",
    "    sim_scores = sorted(sim_scores, key=lambda x: x[1], reverse=True)\n",
    "    sim_scores = sim_scores[1:top_n+1]\n",
    "    recommended = [df.iloc[i[0]][[\"name\", \"country\", \"description\"]] for i in sim_scores]\n",
    "    return pd.DataFrame(recommended)\n"
   ]
  },
  {
   "cell_type": "code",
   "execution_count": null,
   "id": "445830bd",
   "metadata": {},
   "outputs": [],
   "source": [
    "# 🔍 Test with any destination index\n",
    "recommend_places(0, top_n=5)\n"
   ]
  }
 ],
 "metadata": {},
 "nbformat": 4,
 "nbformat_minor": 5
}
